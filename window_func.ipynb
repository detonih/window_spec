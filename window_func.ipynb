{
 "cells": [
  {
   "cell_type": "code",
   "execution_count": null,
   "metadata": {},
   "outputs": [],
   "source": [
    "from pyspark.sql import SparkSession\n",
    "from pyspark.sql.window import Window\n",
    "import pyspark.sql.functions as F"
   ]
  },
  {
   "cell_type": "code",
   "execution_count": null,
   "metadata": {},
   "outputs": [],
   "source": [
    "spark = (\n",
    "  SparkSession\n",
    "  .builder\n",
    "  .appName(\"Spark SQL basic example\")\n",
    "  .getOrCreate()\n",
    "  )"
   ]
  },
  {
   "cell_type": "code",
   "execution_count": null,
   "metadata": {},
   "outputs": [],
   "source": [
    "columns = [\"contrato\", \"fatura\", \"vlr_fat\",\"valor_juros\", \"valor_multa\", \"fecham_fat\"]\n",
    "data = [\n",
    "  (1, 12, 20000.35, 13.00, 10.00, '2022-04-28'),\n",
    "  (1, 11, 1000.50, 13.00, 10.00, '2022-04-26'),\n",
    "  (1, 10, 100.50, 13.00, 10.00, '2022-04-25'),\n",
    "  (2, 22, 3000.43, 13.00, 10.00, '2022-04-29'),\n",
    "  (2, 21, 1500.43, 13.00, 10.00, '2022-04-28'),\n",
    "  (3, 21, -300.43, 0.0, 0.0, '2022-04-28'),\n",
    "  (3, 22, -300.43, 0.0, 0.0, '2022-03-31'),\n",
    "  (3, 20, -300.43, 0.0, 0.0, '2022-04-27'),\n",
    "  ]\n",
    "df = spark.createDataFrame(data,columns)"
   ]
  },
  {
   "cell_type": "code",
   "execution_count": null,
   "metadata": {},
   "outputs": [],
   "source": [
    "scroll = (F.col('vlr_fat') + F.col('valor_juros') + F.col('valor_multa'))"
   ]
  },
  {
   "cell_type": "code",
   "execution_count": null,
   "metadata": {},
   "outputs": [],
   "source": [
    "windowSpec  = Window.partitionBy(\"contrato\").orderBy(F.desc('fecham_fat'))"
   ]
  },
  {
   "cell_type": "code",
   "execution_count": null,
   "metadata": {},
   "outputs": [],
   "source": [
    "(\n",
    "  df\n",
    "  .withColumn(\"row\",F.row_number().over(windowSpec))\n",
    "  .show()\n",
    ")"
   ]
  },
  {
   "cell_type": "code",
   "execution_count": null,
   "metadata": {},
   "outputs": [],
   "source": [
    "windowSpecAgg  = Window.partitionBy(\"fecham_fat\")"
   ]
  },
  {
   "cell_type": "code",
   "execution_count": null,
   "metadata": {},
   "outputs": [],
   "source": [
    "(\n",
    "  df\n",
    "  .withColumn(\"row\",F.row_number().over(windowSpec))\n",
    "  .withColumn(\"soma_rolagem\", scroll)\n",
    "  .withColumn(\"max\", F.max(F.col(\"fecham_fat\")).over(windowSpecAgg))\n",
    "  .show()\n",
    ")\n",
    "\n",
    "(\n",
    "  df\n",
    "  .withColumn(\"row\",F.row_number().over(windowSpec))\n",
    "  .withColumn(\"soma_rolagem\", scroll)\n",
    "  .withColumn(\"max\", F.max(F.col(\"fecham_fat\")).over(windowSpecAgg))\n",
    "  .filter(F.col(\"row\") == 1).select(\"*\")\n",
    "  .show()\n",
    ")\n"
   ]
  },
  {
   "cell_type": "code",
   "execution_count": null,
   "metadata": {},
   "outputs": [],
   "source": [
    "columns = [\"contrato\", \"fatura\", \"vlr_fat\",\"vlr_trans\", \"dt_trans\", \"fecham_fat\"]\n",
    "data = [\n",
    "  (1, 10, 23.00, 23.00, '2022-03-20', '2022-04-05'),\n",
    "  (1, 10, 34.00, 11.00, '2022-04-03', '2022-04-05'),\n",
    "  (1, 11, 32.00, 32.00, '2022-04-06', '2022-05-05'),\n",
    "  (1, 11, 72.00, 40.00, '2022-04-20', '2022-05-05'),\n",
    "  (1, 11, 87.00, 15.00, '2022-05-02', '2022-05-05'),\n",
    "  (1, 12, 15.00, 15.00, '2022-05-15', '2022-06-05'),\n",
    "  (1, 12, 30.00, 15.00, '2022-06-02', '2022-06-05'),\n",
    "\n",
    "  (2, 20, 23.00, 23.00, '2022-03-20', '2022-04-10'),\n",
    "  (2, 20, 34.00, 11.00, '2022-04-08', '2022-04-10'),\n",
    "  (2, 21, 32.00, 32.00, '2022-04-06', '2022-05-10'),\n",
    "  (2, 21, 72.00, 40.00, '2022-04-20', '2022-05-10'),\n",
    "  (2, 21, 87.00, 15.00, '2022-05-08', '2022-05-10'),\n",
    "  (2, 22, 15.00, 15.00, '2022-05-15', '2022-06-10'),\n",
    "  (2, 22, 30.00, 15.00, '2022-06-02', '2022-06-10'),\n",
    "\n",
    "  (3, 30, 23.00, 23.00, '2022-03-20', '2022-04-15'),\n",
    "  (3, 30, 34.00, 11.00, '2022-04-12', '2022-04-15'),\n",
    "  (3, 31, 32.00, 32.00, '2022-04-06', '2022-05-15'),\n",
    "  (3, 31, 72.00, 40.00, '2022-04-20', '2022-05-15'),\n",
    "  (3, 31, 87.00, 15.00, '2022-05-12', '2022-05-15'),\n",
    "  (3, 32, 15.00, 15.00, '2022-05-16', '2022-06-15'),\n",
    "  (3, 32, 30.00, 15.00, '2022-06-02', '2022-06-15'),\n",
    "  ]\n",
    "df = spark.createDataFrame(data,columns)"
   ]
  },
  {
   "cell_type": "code",
   "execution_count": null,
   "metadata": {},
   "outputs": [],
   "source": [
    "# sum values between date window pyspark\n",
    "windowSpec = (\n",
    "  Window.partitionBy('fatura')\n",
    "  .orderBy(F.desc('fecham_fat'))\n",
    "  .rowsBetween(\n",
    "    Window.unboundedPreceding, Window.unboundedFollowing\n",
    "    )\n",
    "  )\n",
    "windowSpec  = Window.partitionBy(\"contrato\").orderBy(F.desc('fecham_fat'))\n",
    "\n",
    "\n",
    "df.withColumn('sum_vlr_trans', F.sum(F.col('vlr_trans')).over(windowSpec)).show(50, False)\n",
    "\n",
    "sum_trans = (F.sum(F.col('vlr_trans')))\n",
    "\n",
    "(\n",
    "  df.withColumn(\"row\",F.row_number().over(windowSpec))\n",
    "  .withColumn(\"sum_vlr_trans\", sum_trans)\n",
    "  .show()\n",
    ")\n",
    "\n",
    "(\n",
    "  df\n",
    "  .withColumn(\"row\",F.row_number().over(windowSpec))\n",
    "  .withColumn(\"sum_vlr_trans\", sum_trans)\n",
    "  .withColumn(\"max\", F.max(F.col(\"fecham_fat\")))\n",
    "  .filter(F.col(\"row\") == 1).select(\"*\")\n",
    "  .show()\n",
    ")"
   ]
  },
  {
   "cell_type": "code",
   "execution_count": null,
   "metadata": {},
   "outputs": [],
   "source": []
  }
 ],
 "metadata": {
  "interpreter": {
   "hash": "31f2aee4e71d21fbe5cf8b01ff0e069b9275f58929596ceb00d14d90e3e16cd6"
  },
  "kernelspec": {
   "display_name": "Python 3.6.9 64-bit",
   "language": "python",
   "name": "python3"
  },
  "language_info": {
   "codemirror_mode": {
    "name": "ipython",
    "version": 3
   },
   "file_extension": ".py",
   "mimetype": "text/x-python",
   "name": "python",
   "nbconvert_exporter": "python",
   "pygments_lexer": "ipython3",
   "version": "3.6.9"
  },
  "orig_nbformat": 4
 },
 "nbformat": 4,
 "nbformat_minor": 2
}
